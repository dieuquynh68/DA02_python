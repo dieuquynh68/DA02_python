{
  "nbformat": 4,
  "nbformat_minor": 0,
  "metadata": {
    "colab": {
      "provenance": [],
      "authorship_tag": "ABX9TyOomHUUANoTqeQVT7npLP/O",
      "include_colab_link": true
    },
    "kernelspec": {
      "name": "python3",
      "display_name": "Python 3"
    },
    "language_info": {
      "name": "python"
    }
  },
  "cells": [
    {
      "cell_type": "markdown",
      "metadata": {
        "id": "view-in-github",
        "colab_type": "text"
      },
      "source": [
        "<a href=\"https://colab.research.google.com/github/dieuquynh68/DA02_python/blob/main/Practice_1.ipynb\" target=\"_parent\"><img src=\"https://colab.research.google.com/assets/colab-badge.svg\" alt=\"Open In Colab\"/></a>"
      ]
    },
    {
      "cell_type": "markdown",
      "source": [
        "#Exercise 1"
      ],
      "metadata": {
        "id": "BKRtBRfl6zu2"
      }
    },
    {
      "cell_type": "code",
      "source": [
        "result = ((6 + 4) * 2 -32 + (12 // 4 * (6 + 4) * 2 - 3**2 + 12 // 4 * (6 + 4) * 2 - 32 + 12 // 4))\n",
        "print(f\"The result is {result}\")\n",
        "\n"
      ],
      "metadata": {
        "colab": {
          "base_uri": "https://localhost:8080/"
        },
        "id": "w58MxwN__G9u",
        "outputId": "112ad33e-4a12-422b-d6e7-60c48969d90e"
      },
      "execution_count": null,
      "outputs": [
        {
          "output_type": "stream",
          "name": "stdout",
          "text": [
            "The result is 70\n"
          ]
        }
      ]
    },
    {
      "cell_type": "markdown",
      "source": [
        "#Exercise 2"
      ],
      "metadata": {
        "id": "kpVDhlAQ_olb"
      }
    },
    {
      "cell_type": "code",
      "source": [
        "a = 10\n",
        "a+=5\n",
        "print(f\"The result is {a}\")"
      ],
      "metadata": {
        "colab": {
          "base_uri": "https://localhost:8080/"
        },
        "id": "m7s9htDX_tVc",
        "outputId": "a815fc13-214d-4473-ffe6-f63bc713c67c"
      },
      "execution_count": null,
      "outputs": [
        {
          "output_type": "stream",
          "name": "stdout",
          "text": [
            "The result is 15\n"
          ]
        }
      ]
    },
    {
      "cell_type": "markdown",
      "source": [
        "#Exercise 3\n"
      ],
      "metadata": {
        "id": "u7_gg9chJ3qV"
      }
    },
    {
      "cell_type": "code",
      "source": [
        "x = 15\n",
        "y = 20\n",
        "print(f\"Is x less than y? Result:{x<y}\")"
      ],
      "metadata": {
        "colab": {
          "base_uri": "https://localhost:8080/"
        },
        "id": "och7iewbADqa",
        "outputId": "69e036b9-88dd-423f-8b36-fbc26f4136ae"
      },
      "execution_count": null,
      "outputs": [
        {
          "output_type": "stream",
          "name": "stdout",
          "text": [
            "Is x less than y? Result:True\n"
          ]
        }
      ]
    },
    {
      "cell_type": "markdown",
      "source": [
        "# Exercise 4"
      ],
      "metadata": {
        "id": "h4sNjJX_KW4h"
      }
    },
    {
      "cell_type": "code",
      "source": [
        "num = 23\n",
        "print(f\"The result is: {num%7}\")"
      ],
      "metadata": {
        "colab": {
          "base_uri": "https://localhost:8080/"
        },
        "id": "qltO1TroKdqp",
        "outputId": "57670ae8-b141-4671-848f-c6ca2a385140"
      },
      "execution_count": null,
      "outputs": [
        {
          "output_type": "stream",
          "name": "stdout",
          "text": [
            "The result is: 2\n"
          ]
        }
      ]
    },
    {
      "cell_type": "markdown",
      "source": [
        "#Exercise 5"
      ],
      "metadata": {
        "id": "50S9mR0YKzYF"
      }
    },
    {
      "cell_type": "code",
      "source": [
        "string = \"Fresher Academy\"\n",
        "converted_string = string.replace('a','@'). replace('e','3')\n",
        "print(f\"Converted string is: {converted_string}\")"
      ],
      "metadata": {
        "colab": {
          "base_uri": "https://localhost:8080/"
        },
        "id": "NSqY5ARWKrb6",
        "outputId": "e363830f-e2aa-4cfa-a024-ac9cb562d1f0"
      },
      "execution_count": null,
      "outputs": [
        {
          "output_type": "stream",
          "name": "stdout",
          "text": [
            "Converted string is: Fr3sh3r Ac@d3my\n"
          ]
        }
      ]
    },
    {
      "cell_type": "markdown",
      "source": [
        "#Exercise 6"
      ],
      "metadata": {
        "id": "wFRISp01Lh15"
      }
    },
    {
      "cell_type": "code",
      "source": [
        "int_var = 8\n",
        "float_var = 2.5\n",
        "print(f\"Sum: {int_var + float_var}\")\n",
        "print(f\"Difference: {int_var - float_var}\")\n",
        "print(f\"product: {int_var * float_var}\")\n",
        "print(f\"Quotient: {int_var/float_var}\")"
      ],
      "metadata": {
        "colab": {
          "base_uri": "https://localhost:8080/"
        },
        "id": "8QJzUFauLuZm",
        "outputId": "e7600ea4-af15-43c3-ca3a-9b00ba85d98e"
      },
      "execution_count": null,
      "outputs": [
        {
          "output_type": "stream",
          "name": "stdout",
          "text": [
            "Sum: 10.5\n",
            "Difference: 5.5\n",
            "product: 20.0\n",
            "Quotient: 3.2\n"
          ]
        }
      ]
    },
    {
      "cell_type": "markdown",
      "source": [
        "#Exercise 7"
      ],
      "metadata": {
        "id": "BWLYI1IKMtQQ"
      }
    },
    {
      "cell_type": "code",
      "source": [
        "my_string = \"Python Programming\"\n",
        "print(f\"The length of the string: {len(my_string)}\")\n",
        "print(f\"The string in uppercase: {my_string.upper()}\")\n",
        "print(f\"The string reversed: {my_string[::-1]}\")"
      ],
      "metadata": {
        "colab": {
          "base_uri": "https://localhost:8080/"
        },
        "id": "BCrmSngKMBj9",
        "outputId": "1d49f156-3726-4a60-af16-b5ee0d1729d2"
      },
      "execution_count": null,
      "outputs": [
        {
          "output_type": "stream",
          "name": "stdout",
          "text": [
            "The length of the string: 18\n",
            "The string in uppercase: PYTHON PROGRAMMING\n",
            "The string reversed: gnimmargorP nohtyP\n"
          ]
        }
      ]
    },
    {
      "cell_type": "markdown",
      "source": [
        "#Exercise 8\n"
      ],
      "metadata": {
        "id": "AbOFtlcwNxKF"
      }
    },
    {
      "cell_type": "code",
      "source": [
        "my_list = [10, 20, 30, 40, 50]\n",
        "print(f\"Exercise 8: First element: {my_list[0]}, Last element: {my_list[-1]}\")\n",
        "my_list.append(60)\n",
        "print(f\"Updated list after adding 60: {my_list}\")\n",
        "my_list.pop(2)\n",
        "print(f\"Updated list after removing element at index 2: {my_list}\")"
      ],
      "metadata": {
        "colab": {
          "base_uri": "https://localhost:8080/"
        },
        "id": "VlrU_CUuNJVc",
        "outputId": "655a73df-d380-4ccc-8a99-3b8b9ff08a81"
      },
      "execution_count": null,
      "outputs": [
        {
          "output_type": "stream",
          "name": "stdout",
          "text": [
            "Exercise 8: First element: 10, Last element: 50\n",
            "Updated list after adding 60: [10, 20, 30, 40, 50, 60]\n",
            "Updated list after removing element at index 2: [10, 20, 40, 50, 60]\n"
          ]
        }
      ]
    },
    {
      "cell_type": "markdown",
      "source": [
        "#Exercise 9\n"
      ],
      "metadata": {
        "id": "btCs2ANVObos"
      }
    },
    {
      "cell_type": "code",
      "source": [
        "my_dict = {\"name\": \"John\", \"age\":25, \"city\": \"New York\"}\n",
        "print(f\"The value of 'name' key: {my_dict['name']}\")\n",
        "my_dict[\"country\"] = \"USA\"\n",
        "print(f\"Dictionary after adding 'country': {my_dict}\")\n",
        "my_dict[\"age\"] = 26\n",
        "print(f\"Dictionary after updating 'age': {my_dict}\")"
      ],
      "metadata": {
        "colab": {
          "base_uri": "https://localhost:8080/"
        },
        "id": "OPMwmOSxOYdL",
        "outputId": "005e509a-aac5-4de1-e574-46859eebd724"
      },
      "execution_count": null,
      "outputs": [
        {
          "output_type": "stream",
          "name": "stdout",
          "text": [
            "The value of 'name' key: John\n",
            "Dictionary after adding 'country': {'name': 'John', 'age': 25, 'city': 'New York', 'country': 'USA'}\n",
            "Dictionary after updating 'age': {'name': 'John', 'age': 26, 'city': 'New York', 'country': 'USA'}\n"
          ]
        }
      ]
    },
    {
      "cell_type": "markdown",
      "source": [],
      "metadata": {
        "id": "OwGUw1WLPg8k"
      }
    },
    {
      "cell_type": "markdown",
      "source": [
        "#Exercise 10"
      ],
      "metadata": {
        "id": "V1JIvDQnPmv9"
      }
    },
    {
      "cell_type": "code",
      "source": [
        "my_tuple = (100, 200, 300, 400, 500)\n",
        "print(f\"First element of the tuple: {my_tuple[0]}. Last element of the tuple: {my_tuple[-1]}\")\n",
        "print(f\"The length of the tuple: {len(my_tuple)}\")\n",
        "print(f\"Does the number 300 exist in the tuple? {'300 exists in the tuple' if 300 in my_tuple else '300 does not exist in the tuple'}\")\n"
      ],
      "metadata": {
        "colab": {
          "base_uri": "https://localhost:8080/"
        },
        "id": "YqQrnQhGPlHj",
        "outputId": "e269081c-b4f9-4e75-98a2-da2ae73f70aa"
      },
      "execution_count": null,
      "outputs": [
        {
          "output_type": "stream",
          "name": "stdout",
          "text": [
            "First element of the tuple: 100. Last element of the tuple: 500\n",
            "The length of the tuple: 5\n",
            "Does the number 300 exist in the tuple? 300 exists in the tuple\n"
          ]
        }
      ]
    },
    {
      "cell_type": "code",
      "source": [],
      "metadata": {
        "id": "KghOkLeKQEoh"
      },
      "execution_count": null,
      "outputs": []
    }
  ]
}